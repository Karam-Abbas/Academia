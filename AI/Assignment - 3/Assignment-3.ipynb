{
  "nbformat": 4,
  "nbformat_minor": 0,
  "metadata": {
    "colab": {
      "provenance": []
    },
    "kernelspec": {
      "name": "python3",
      "display_name": "Python 3"
    },
    "language_info": {
      "name": "python"
    }
  },
  "cells": [
    {
      "cell_type": "code",
      "source": [
        "from random import seed\n",
        "from random import random\n",
        "from math import exp\n",
        "import pandas as pd\n",
        "import numpy as np\n",
        "from sklearn.model_selection import train_test_split"
      ],
      "metadata": {
        "id": "9nYtQ4c6v4WS"
      },
      "execution_count": 35,
      "outputs": []
    },
    {
      "cell_type": "code",
      "execution_count": 77,
      "metadata": {
        "id": "-0GsZpJKgB8G"
      },
      "outputs": [],
      "source": [
        "# ANN\n",
        "def initialize_network(n_inputs, n_hidden, n_outputs):\n",
        "  network = list()\n",
        "  hidden_layer = [{'weights':[random() for i in range(n_inputs+1)]} for i in range(n_hidden)]        # random weights of hidden layer\n",
        "  network.append(hidden_layer)\n",
        "  output_layer = [{'weights':[random() for i in range(n_hidden+1)]} for i in range(n_outputs)]       # random weights of output layer\n",
        "  network.append(output_layer)\n",
        "  return network\n",
        "\n",
        "# Activation Function\n",
        "def activate(weights, inputs):\n",
        "\tactivation = weights[-1]\n",
        "\tfor i in range(len(weights)-1):\n",
        "\t\tactivation += weights[i] * inputs[i]\n",
        "\treturn activation\n",
        "\n",
        "# Sigmoid Function\n",
        "def transfer(activation):\n",
        " return 1.0 / (1.0 + exp(-activation))\n",
        "\n",
        "# g'(x) = 1 * (1-x)\n",
        "def transfer_derivative(output):\n",
        " return output * (1.0 - output)\n",
        "\n",
        "# Forward propagation\n",
        "def forward_propagate(network, row):    # row = list of inputs\n",
        "\tinputs = row\n",
        "\tfor layer in network:\n",
        "\t\tnew_inputs = []\n",
        "\t\tfor neuron in layer:\n",
        "\t\t\tactivation = activate(neuron['weights'], inputs)\n",
        "\t\t\tneuron['output'] = transfer(activation)\n",
        "\t\t\tnew_inputs.append(neuron['output'])\n",
        "\t\tinputs = new_inputs\n",
        "\treturn inputs                       # array of outputs\n",
        "\n",
        "# Backpropagate error and store in neurons\n",
        "def backward_propagate_error(network, expected):\n",
        "\tfor i in reversed(range(len(network))):\n",
        "\t\tlayer = network[i]\n",
        "\t\terrors = list()\n",
        "\t\tif i != len(network)-1:\n",
        "\t\t\tfor j in range(len(layer)):\n",
        "\t\t\t\terror = 0.0\n",
        "\t\t\t\tfor neuron in network[i + 1]:\n",
        "\t\t\t\t\terror += (neuron['weights'][j] * neuron['delta'])\n",
        "\t\t\t\terrors.append(error)\n",
        "\t\telse:\n",
        "\t\t\tfor j in range(len(layer)):\n",
        "\t\t\t\tneuron = layer[j]\n",
        "\t\t\t\terrors.append(neuron['output'] - expected[j])\n",
        "\t\tfor j in range(len(layer)):\n",
        "\t\t\tneuron = layer[j]\n",
        "\t\t\tneuron['delta'] = errors[j] * transfer_derivative(neuron['output'])\n",
        "\n",
        "# Update network weights with error\n",
        "def update_weights(network, row, l_rate):\n",
        "    for i in range(len(network)):\n",
        "        inputs = row[:-3]\n",
        "        if i != 0:\n",
        "            inputs = [neuron['output'] for neuron in network[i - 1]]\n",
        "        for neuron in network[i]:\n",
        "            for j in range(len(inputs)):\n",
        "                neuron['weights'][j] -= l_rate * neuron['delta'] * inputs[j]\n",
        "            neuron['weights'][-1] -= l_rate * neuron['delta']\n",
        "\n",
        "# Training the network\n",
        "def train_network(network, train, l_rate, n_epoch, n_outputs):\n",
        "    for epoch in range(n_epoch):\n",
        "        sum_error = 0\n",
        "        for row in train:\n",
        "            inputs = row[:-n_outputs]  # Extract input features\n",
        "            expected = row[-n_outputs:]  # Extract one-hot encoded expected output\n",
        "            outputs = forward_propagate(network, inputs)\n",
        "            sum_error += sum([(expected[i] - outputs[i])**2 for i in range(len(expected))])\n",
        "            backward_propagate_error(network, expected)\n",
        "            update_weights(network, row, l_rate)  # Update weights using the entire row\n",
        "        print('>epoch=%d, lrate=%.3f, error=%.3f' % (epoch, l_rate, sum_error))"
      ]
    },
    {
      "cell_type": "code",
      "source": [
        "df = pd.read_csv('Iris.csv')\n",
        "df.drop(columns=['Id'],inplace=True)\n",
        "one_hot_encoded = pd.get_dummies(df['Species'], prefix='category')\n",
        "df_encoded = pd.concat([df, one_hot_encoded], axis=1)\n",
        "df_encoded.drop(columns=['Species'],inplace = True)\n",
        "\n",
        "inputs = df_encoded.iloc[:, :-3].values   # Input features\n",
        "outputs = df_encoded.iloc[:, 4:].values   # Output column\n"
      ],
      "metadata": {
        "id": "KPxUnOOoIxTj"
      },
      "execution_count": 61,
      "outputs": []
    },
    {
      "cell_type": "code",
      "source": [
        "seed(1)\n",
        "#train = 70%   test = 30%\n",
        "train_data, test_data = train_test_split(df_encoded, test_size=0.3, random_state=42)\n",
        "\n",
        "dataset = train_data.iloc[:,:].values\n",
        "n_inputs = len(dataset[0]) - 3\n",
        "n_outputs = 3\n",
        "network = initialize_network(n_inputs, 6 , n_outputs)\n",
        "train_network(network, dataset, 0.1, 30, n_outputs)   # ANN, dataset ,Learning rate , iterations , nuber of output columns\n",
        "for layer in network:\n",
        " print(layer)"
      ],
      "metadata": {
        "colab": {
          "base_uri": "https://localhost:8080/"
        },
        "id": "nAYZ0YjSv8Ha",
        "outputId": "aacc9093-591f-4d53-df26-4eaa86f4b034"
      },
      "execution_count": 156,
      "outputs": [
        {
          "output_type": "stream",
          "name": "stdout",
          "text": [
            ">epoch=0, lrate=0.100, error=157.598\n",
            ">epoch=1, lrate=0.100, error=112.496\n",
            ">epoch=2, lrate=0.100, error=82.037\n",
            ">epoch=3, lrate=0.100, error=71.269\n",
            ">epoch=4, lrate=0.100, error=70.688\n",
            ">epoch=5, lrate=0.100, error=68.704\n",
            ">epoch=6, lrate=0.100, error=65.033\n",
            ">epoch=7, lrate=0.100, error=60.961\n",
            ">epoch=8, lrate=0.100, error=56.653\n",
            ">epoch=9, lrate=0.100, error=52.776\n",
            ">epoch=10, lrate=0.100, error=49.655\n",
            ">epoch=11, lrate=0.100, error=47.253\n",
            ">epoch=12, lrate=0.100, error=45.404\n",
            ">epoch=13, lrate=0.100, error=43.940\n",
            ">epoch=14, lrate=0.100, error=42.730\n",
            ">epoch=15, lrate=0.100, error=41.680\n",
            ">epoch=16, lrate=0.100, error=40.723\n",
            ">epoch=17, lrate=0.100, error=39.813\n",
            ">epoch=18, lrate=0.100, error=38.919\n",
            ">epoch=19, lrate=0.100, error=38.019\n",
            ">epoch=20, lrate=0.100, error=37.098\n",
            ">epoch=21, lrate=0.100, error=36.146\n",
            ">epoch=22, lrate=0.100, error=35.157\n",
            ">epoch=23, lrate=0.100, error=34.130\n",
            ">epoch=24, lrate=0.100, error=33.066\n",
            ">epoch=25, lrate=0.100, error=31.970\n",
            ">epoch=26, lrate=0.100, error=30.850\n",
            ">epoch=27, lrate=0.100, error=29.715\n",
            ">epoch=28, lrate=0.100, error=28.576\n",
            ">epoch=29, lrate=0.100, error=27.446\n",
            "[{'weights': [0.14158943061361673, 0.8528264131906508, 0.7646879393614882, 0.2548675954265774, 0.4970606594897342], 'output': 0.9998892044514582, 'delta': 7.537227000468216e-07}, {'weights': [0.45157543757099, 0.6526201826961671, 0.7899690563579026, 0.09416837671092912, 0.02877555745526442], 'output': 0.999956876492122, 'delta': 6.446649943612815e-07}, {'weights': [0.8396917954522553, 0.43599640145904334, 0.7622925499509121, 0.0018364106122881632, 0.4462790041161002], 'output': 0.9999950566412112, 'delta': -1.872456740024959e-07}, {'weights': [0.7318831807634645, 0.23515684937368256, 0.9492991647237606, 0.9023069356534257, 0.032697821635515344], 'output': 0.999998530004161, 'delta': 9.313208590146488e-08}, {'weights': [-0.7759354062580328, -0.8520759102357972, 2.340954159616614, 1.0623893651391891, -0.06820264914870196], 'output': 0.9996328451786156, 'delta': 2.8533147762465894e-05}, {'weights': [-1.2939499422080916, -1.434177111081861, 2.027032847429453, 1.7995454155685766, -0.18953056044181524], 'output': 0.8423037716677186, 'delta': -0.0385388480365881}]\n",
            "[{'weights': [0.17435001693640081, 0.1853249851732845, 0.1933411698997495, 0.4216191242956548, -3.1965116743075503, -2.290532779558273, 0.8174608716444592], 'output': 0.034495414324381767, 'delta': 0.0011488863565356315}, {'weights': [-0.29590501093150395, -0.21494112623654865, -0.682166429384603, 0.13373320449783058, 2.1704501850837024, -1.4091992410463037, -0.5385553180961334], 'output': 0.36386941985476234, 'delta': 0.08422429612855573}, {'weights': [-0.48029864988581256, -0.5010568227283441, -0.288096621451548, -0.7974157423721118, 1.6186084332578907, 2.680675362602482, -0.9240818257533697], 'output': 0.699013219996335, 'delta': -0.063325733813825}]\n"
          ]
        }
      ]
    },
    {
      "cell_type": "code",
      "source": [
        "def predict(network, row):\n",
        "    outputs = forward_propagate(network, row)\n",
        "    return outputs.index(max(outputs))  # Return the index of the neuron with the highest output\n",
        "\n",
        "# Evaluate the accuracy of the model using the test data\n",
        "def evaluate_model(network, test_data):\n",
        "    correct_predictions = 0\n",
        "    total_samples = len(test_data)\n",
        "    for row in test_data:\n",
        "        inputs = row[:-3]  # Extract input features\n",
        "        expected = np.argmax(row[-3:])  # Extract the index of the expected output neuron\n",
        "        prediction = predict(network, inputs)\n",
        "        if prediction == expected:\n",
        "            correct_predictions += 1\n",
        "    accuracy = (correct_predictions / total_samples) * 100\n",
        "    return accuracy\n",
        "\n",
        "# Use the test data to evaluate the model accuracy\n",
        "test_dataset = test_data.values\n",
        "accuracy = evaluate_model(network, test_dataset)\n",
        "print(\"Accuracy:\", accuracy)"
      ],
      "metadata": {
        "colab": {
          "base_uri": "https://localhost:8080/"
        },
        "id": "vPrXRQJOVbr5",
        "outputId": "ec3896f3-497f-4dbb-99a2-751e477fad1b"
      },
      "execution_count": 157,
      "outputs": [
        {
          "output_type": "stream",
          "name": "stdout",
          "text": [
            "Accuracy: 97.77777777777777\n"
          ]
        }
      ]
    }
  ]
}