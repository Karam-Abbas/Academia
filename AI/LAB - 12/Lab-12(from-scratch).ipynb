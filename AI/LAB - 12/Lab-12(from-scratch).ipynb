{
  "nbformat": 4,
  "nbformat_minor": 0,
  "metadata": {
    "colab": {
      "provenance": []
    },
    "kernelspec": {
      "name": "python3",
      "display_name": "Python 3"
    },
    "language_info": {
      "name": "python"
    }
  },
  "cells": [
    {
      "cell_type": "code",
      "execution_count": 55,
      "metadata": {
        "id": "4I73Kj_ZiLjb"
      },
      "outputs": [],
      "source": [
        "import numpy as np\n",
        "import pandas as pd\n",
        "import matplotlib.pyplot as plt\n",
        "from sklearn.cluster import DBSCAN"
      ]
    },
    {
      "cell_type": "code",
      "source": [
        "class Point:\n",
        "    def __init__(self, x, y):\n",
        "        self.x = x\n",
        "        self.y = y\n",
        "        self.cluster = None\n",
        "        self.visited = False\n",
        "\n",
        "def euclidean_distance(p1, p2):\n",
        "    return ((p1.x - p2.x) ** 2 + (p1.y - p2.y) ** 2) ** 0.5\n",
        "\n",
        "def region_query(point, points, eps):\n",
        "    neighbors = []\n",
        "    for p in points:\n",
        "        if euclidean_distance(point, p) <= eps:\n",
        "            neighbors.append(p)\n",
        "    return neighbors\n",
        "\n",
        "def dbscan(points, eps, min_samples):\n",
        "    clusters = []\n",
        "    cluster_id = 0\n",
        "\n",
        "    for p in points:\n",
        "        if p.visited:\n",
        "            continue\n",
        "        p.visited = True\n",
        "\n",
        "        neighbors = region_query(p, points, eps)\n",
        "\n",
        "        if len(neighbors) < min_samples:\n",
        "            p.cluster = -1  # Noise\n",
        "        else:\n",
        "            cluster_id += 1\n",
        "            expand_cluster(p, neighbors, clusters, cluster_id, eps, min_samples)\n",
        "\n",
        "    return clusters\n",
        "\n",
        "def expand_cluster(point, neighbors, clusters, cluster_id, eps, min_samples):\n",
        "    point.cluster = cluster_id\n",
        "    cluster = [point]\n",
        "\n",
        "    for neighbor in neighbors:\n",
        "        if not neighbor.visited:\n",
        "            neighbor.visited = True\n",
        "            new_neighbors = region_query(neighbor, points, eps)\n",
        "            if len(new_neighbors) >= min_samples:\n",
        "                neighbors.extend(new_neighbors)\n",
        "        if neighbor.cluster is None:\n",
        "            neighbor.cluster = cluster_id\n",
        "            cluster.append(neighbor)\n",
        "\n",
        "    clusters.append(cluster)\n",
        "\n",
        "# Plot clusters\n",
        "def plot_clusters(points, clusters):\n",
        "    plt.figure(figsize=(8, 6))\n",
        "\n",
        "    for cluster_id, cluster in enumerate(clusters):\n",
        "        cluster_x = [point.x for point in cluster]\n",
        "        cluster_y = [point.y for point in cluster]\n",
        "        plt.scatter(cluster_x, cluster_y, label=f'Cluster {cluster_id + 1}')\n",
        "\n",
        "    noise = [point for point in points if point.cluster == -1]\n",
        "    noise_x = [point.x for point in noise]\n",
        "    noise_y = [point.y for point in noise]\n",
        "    plt.scatter(noise_x, noise_y, color='black', marker='x', label='Noise')\n",
        "\n",
        "    plt.xlabel('X')\n",
        "    plt.ylabel('Y')\n",
        "    plt.title('DBSCAN Clustering')\n",
        "    plt.show()"
      ],
      "metadata": {
        "id": "8U8hYIBay3Jb"
      },
      "execution_count": 56,
      "outputs": []
    },
    {
      "cell_type": "code",
      "source": [
        "points = [Point(1, 2), Point(2, 2), Point(2, 3), Point(13,15),Point(8, 7), Point(8, 8), Point(25, 80) , Point(3,3) , Point(5,40) , Point(5,43),Point(4,40)]\n",
        "eps = 3\n",
        "min_samples = 2\n",
        "clusters = dbscan(points, eps, min_samples)\n",
        "plot_clusters(points, clusters)"
      ],
      "metadata": {
        "colab": {
          "base_uri": "https://localhost:8080/",
          "height": 564
        },
        "id": "aLTz0LcB0ohf",
        "outputId": "c04f3263-877a-4cb8-8227-4c872f0d7620"
      },
      "execution_count": 57,
      "outputs": [
        {
          "output_type": "display_data",
          "data": {
            "text/plain": [
              "<Figure size 800x600 with 1 Axes>"
            ],
            "image/png": "[encoded data removed]"
          },
          "metadata": {}
        }
      ]
    }
  ]
}